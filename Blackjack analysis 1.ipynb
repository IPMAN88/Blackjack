{
 "cells": [
  {
   "cell_type": "markdown",
   "metadata": {},
   "source": [
    "# Blackjack analysis"
   ]
  },
  {
   "cell_type": "markdown",
   "metadata": {},
   "source": [
    "Goal: To find out a better strategy for insurance"
   ]
  },
  {
   "cell_type": "markdown",
   "metadata": {},
   "source": [
    "- Dealer strategy \n",
    "Draw until hard 17\n",
    "\n",
    "- Player1 strategy\n",
    "Draw until soft 17, never buy insurance\n",
    "\n",
    "- Player2 strategy\n",
    "Draw until soft 17, buy insurance when hand card is larger than 17"
   ]
  },
  {
   "cell_type": "code",
   "execution_count": 1,
   "metadata": {},
   "outputs": [],
   "source": [
    "import pandas as pd"
   ]
  },
  {
   "cell_type": "code",
   "execution_count": 2,
   "metadata": {},
   "outputs": [
    {
     "name": "stdout",
     "output_type": "stream",
     "text": [
      "no stored variable dealer_money\n",
      "no stored variable player1_money\n",
      "no stored variable player2_money\n"
     ]
    }
   ],
   "source": [
    "%store -r dealer_money\n",
    "%store -r player1_money\n",
    "%store -r player2_money"
   ]
  },
  {
   "cell_type": "code",
   "execution_count": 3,
   "metadata": {},
   "outputs": [],
   "source": [
    "#dealer_money, player1_money, player2_money"
   ]
  },
  {
   "cell_type": "code",
   "execution_count": 4,
   "metadata": {},
   "outputs": [],
   "source": [
    "dealer = -4539.5\n",
    "player1 = 4319\n",
    "player2 = 520.5"
   ]
  },
  {
   "cell_type": "code",
   "execution_count": null,
   "metadata": {},
   "outputs": [],
   "source": []
  },
  {
   "cell_type": "code",
   "execution_count": 5,
   "metadata": {},
   "outputs": [],
   "source": [
    "df = pd.read_csv('Blackjack1')"
   ]
  },
  {
   "cell_type": "code",
   "execution_count": 6,
   "metadata": {},
   "outputs": [
    {
     "data": {
      "text/html": [
       "<div>\n",
       "<style scoped>\n",
       "    .dataframe tbody tr th:only-of-type {\n",
       "        vertical-align: middle;\n",
       "    }\n",
       "\n",
       "    .dataframe tbody tr th {\n",
       "        vertical-align: top;\n",
       "    }\n",
       "\n",
       "    .dataframe thead th {\n",
       "        text-align: right;\n",
       "    }\n",
       "</style>\n",
       "<table border=\"1\" class=\"dataframe\">\n",
       "  <thead>\n",
       "    <tr style=\"text-align: right;\">\n",
       "      <th></th>\n",
       "      <th>Game</th>\n",
       "      <th>Dealer_hand</th>\n",
       "      <th>Player1_hand</th>\n",
       "      <th>Player2_hand</th>\n",
       "      <th>Dealer_result</th>\n",
       "      <th>Player1_result</th>\n",
       "      <th>Player2_result</th>\n",
       "      <th>Player1_insurance</th>\n",
       "      <th>Player2_insurance</th>\n",
       "      <th>Dealer_blackjack</th>\n",
       "      <th>Player1_blackjack</th>\n",
       "      <th>Player2_blackjack</th>\n",
       "    </tr>\n",
       "  </thead>\n",
       "  <tbody>\n",
       "    <tr>\n",
       "      <td>54465</td>\n",
       "      <td>Game54466</td>\n",
       "      <td>[2, 8, 5, 2, 10]</td>\n",
       "      <td>[6, 10, 5]</td>\n",
       "      <td>[4, 10, 6]</td>\n",
       "      <td>['L', 'L']</td>\n",
       "      <td>W</td>\n",
       "      <td>W</td>\n",
       "      <td>0</td>\n",
       "      <td>0</td>\n",
       "      <td>0</td>\n",
       "      <td>0</td>\n",
       "      <td>0</td>\n",
       "    </tr>\n",
       "    <tr>\n",
       "      <td>37373</td>\n",
       "      <td>Game37374</td>\n",
       "      <td>[2, 9, 8]</td>\n",
       "      <td>[3, 2, 'A']</td>\n",
       "      <td>[10, 4, 2, 10]</td>\n",
       "      <td>['L', 'W']</td>\n",
       "      <td>W</td>\n",
       "      <td>L</td>\n",
       "      <td>0</td>\n",
       "      <td>0</td>\n",
       "      <td>0</td>\n",
       "      <td>0</td>\n",
       "      <td>0</td>\n",
       "    </tr>\n",
       "    <tr>\n",
       "      <td>68679</td>\n",
       "      <td>Game68680</td>\n",
       "      <td>[8, 10]</td>\n",
       "      <td>[10, 8]</td>\n",
       "      <td>[6, 4, 3, 10]</td>\n",
       "      <td>['T', 'W']</td>\n",
       "      <td>T</td>\n",
       "      <td>L</td>\n",
       "      <td>0</td>\n",
       "      <td>0</td>\n",
       "      <td>0</td>\n",
       "      <td>0</td>\n",
       "      <td>0</td>\n",
       "    </tr>\n",
       "    <tr>\n",
       "      <td>57713</td>\n",
       "      <td>Game57714</td>\n",
       "      <td>[10, 'A']</td>\n",
       "      <td>[2, 10, 7]</td>\n",
       "      <td>[9, 9]</td>\n",
       "      <td>['W with blackjack', 'W with insurance']</td>\n",
       "      <td>L with blackjack</td>\n",
       "      <td>L with insurance</td>\n",
       "      <td>0</td>\n",
       "      <td>1</td>\n",
       "      <td>1</td>\n",
       "      <td>0</td>\n",
       "      <td>0</td>\n",
       "    </tr>\n",
       "    <tr>\n",
       "      <td>97795</td>\n",
       "      <td>Game97796</td>\n",
       "      <td>[10, 7, 5]</td>\n",
       "      <td>[3, 4, 10, 10]</td>\n",
       "      <td>[10, 8]</td>\n",
       "      <td>['L', 'L']</td>\n",
       "      <td>W</td>\n",
       "      <td>W</td>\n",
       "      <td>0</td>\n",
       "      <td>1</td>\n",
       "      <td>0</td>\n",
       "      <td>0</td>\n",
       "      <td>0</td>\n",
       "    </tr>\n",
       "    <tr>\n",
       "      <td>41945</td>\n",
       "      <td>Game41946</td>\n",
       "      <td>[9, 'A', 10]</td>\n",
       "      <td>[10, 10]</td>\n",
       "      <td>[8, 2, 2, 10]</td>\n",
       "      <td>['T', 'W']</td>\n",
       "      <td>T</td>\n",
       "      <td>L</td>\n",
       "      <td>0</td>\n",
       "      <td>0</td>\n",
       "      <td>0</td>\n",
       "      <td>0</td>\n",
       "      <td>0</td>\n",
       "    </tr>\n",
       "    <tr>\n",
       "      <td>42446</td>\n",
       "      <td>Game42447</td>\n",
       "      <td>[2, 4, 4, 6, 3]</td>\n",
       "      <td>[7, 10, 10]</td>\n",
       "      <td>[3, 4, 5, 3, 4]</td>\n",
       "      <td>['W', 'T']</td>\n",
       "      <td>L</td>\n",
       "      <td>T</td>\n",
       "      <td>0</td>\n",
       "      <td>0</td>\n",
       "      <td>0</td>\n",
       "      <td>0</td>\n",
       "      <td>0</td>\n",
       "    </tr>\n",
       "    <tr>\n",
       "      <td>40929</td>\n",
       "      <td>Game40930</td>\n",
       "      <td>[3, 3, 10, 7]</td>\n",
       "      <td>[6, 10, 8]</td>\n",
       "      <td>['A', 10]</td>\n",
       "      <td>['L', 'L with blackjack']</td>\n",
       "      <td>W</td>\n",
       "      <td>W with blackjack</td>\n",
       "      <td>0</td>\n",
       "      <td>0</td>\n",
       "      <td>0</td>\n",
       "      <td>0</td>\n",
       "      <td>1</td>\n",
       "    </tr>\n",
       "    <tr>\n",
       "      <td>31253</td>\n",
       "      <td>Game31254</td>\n",
       "      <td>[10, 3, 2, 7]</td>\n",
       "      <td>[10, 3, 10]</td>\n",
       "      <td>[5, 7, 4, 8]</td>\n",
       "      <td>['L', 'L']</td>\n",
       "      <td>W</td>\n",
       "      <td>W</td>\n",
       "      <td>0</td>\n",
       "      <td>0</td>\n",
       "      <td>0</td>\n",
       "      <td>0</td>\n",
       "      <td>0</td>\n",
       "    </tr>\n",
       "    <tr>\n",
       "      <td>19013</td>\n",
       "      <td>Game19014</td>\n",
       "      <td>[4, 10, 10]</td>\n",
       "      <td>[6, 4, 5, 6]</td>\n",
       "      <td>['A', 7]</td>\n",
       "      <td>['L', 'L']</td>\n",
       "      <td>W</td>\n",
       "      <td>W</td>\n",
       "      <td>0</td>\n",
       "      <td>0</td>\n",
       "      <td>0</td>\n",
       "      <td>0</td>\n",
       "      <td>0</td>\n",
       "    </tr>\n",
       "  </tbody>\n",
       "</table>\n",
       "</div>"
      ],
      "text/plain": [
       "            Game       Dealer_hand    Player1_hand     Player2_hand  \\\n",
       "54465  Game54466  [2, 8, 5, 2, 10]      [6, 10, 5]       [4, 10, 6]   \n",
       "37373  Game37374         [2, 9, 8]     [3, 2, 'A']   [10, 4, 2, 10]   \n",
       "68679  Game68680           [8, 10]         [10, 8]    [6, 4, 3, 10]   \n",
       "57713  Game57714         [10, 'A']      [2, 10, 7]           [9, 9]   \n",
       "97795  Game97796        [10, 7, 5]  [3, 4, 10, 10]          [10, 8]   \n",
       "41945  Game41946      [9, 'A', 10]        [10, 10]    [8, 2, 2, 10]   \n",
       "42446  Game42447   [2, 4, 4, 6, 3]     [7, 10, 10]  [3, 4, 5, 3, 4]   \n",
       "40929  Game40930     [3, 3, 10, 7]      [6, 10, 8]        ['A', 10]   \n",
       "31253  Game31254     [10, 3, 2, 7]     [10, 3, 10]     [5, 7, 4, 8]   \n",
       "19013  Game19014       [4, 10, 10]    [6, 4, 5, 6]         ['A', 7]   \n",
       "\n",
       "                                  Dealer_result    Player1_result  \\\n",
       "54465                                ['L', 'L']                 W   \n",
       "37373                                ['L', 'W']                 W   \n",
       "68679                                ['T', 'W']                 T   \n",
       "57713  ['W with blackjack', 'W with insurance']  L with blackjack   \n",
       "97795                                ['L', 'L']                 W   \n",
       "41945                                ['T', 'W']                 T   \n",
       "42446                                ['W', 'T']                 L   \n",
       "40929                 ['L', 'L with blackjack']                 W   \n",
       "31253                                ['L', 'L']                 W   \n",
       "19013                                ['L', 'L']                 W   \n",
       "\n",
       "         Player2_result  Player1_insurance  Player2_insurance  \\\n",
       "54465                 W                  0                  0   \n",
       "37373                 L                  0                  0   \n",
       "68679                 L                  0                  0   \n",
       "57713  L with insurance                  0                  1   \n",
       "97795                 W                  0                  1   \n",
       "41945                 L                  0                  0   \n",
       "42446                 T                  0                  0   \n",
       "40929  W with blackjack                  0                  0   \n",
       "31253                 W                  0                  0   \n",
       "19013                 W                  0                  0   \n",
       "\n",
       "       Dealer_blackjack  Player1_blackjack  Player2_blackjack  \n",
       "54465                 0                  0                  0  \n",
       "37373                 0                  0                  0  \n",
       "68679                 0                  0                  0  \n",
       "57713                 1                  0                  0  \n",
       "97795                 0                  0                  0  \n",
       "41945                 0                  0                  0  \n",
       "42446                 0                  0                  0  \n",
       "40929                 0                  0                  1  \n",
       "31253                 0                  0                  0  \n",
       "19013                 0                  0                  0  "
      ]
     },
     "execution_count": 6,
     "metadata": {},
     "output_type": "execute_result"
    }
   ],
   "source": [
    "df.sample(10)"
   ]
  },
  {
   "cell_type": "code",
   "execution_count": 7,
   "metadata": {},
   "outputs": [
    {
     "data": {
      "text/plain": [
       "['L', 'L']                                                          25671\n",
       "['W', 'W']                                                          24147\n",
       "['W', 'L']                                                           9477\n",
       "['L', 'W']                                                           9241\n",
       "['T', 'W']                                                           4948\n",
       "['W', 'T']                                                           4918\n",
       "['T', 'L']                                                           3508\n",
       "['L', 'T']                                                           3312\n",
       "['W with blackjack', 'W with blackjack']                             2907\n",
       "['L with blackjack', 'W']                                            1966\n",
       "['W', 'L with blackjack']                                            1949\n",
       "['L with blackjack', 'L']                                            1934\n",
       "['L', 'L with blackjack']                                            1907\n",
       "['W with blackjack', 'W with insurance']                             1368\n",
       "['T', 'T']                                                           1177\n",
       "['T', 'L with blackjack']                                             498\n",
       "['L with blackjack', 'T']                                             465\n",
       "['W with blackjack', 'T with both blackjack and insurance']           204\n",
       "['L with blackjack', 'L with blackjack']                              164\n",
       "['T with both blackjack', 'W with blackjack']                         140\n",
       "['T with both blackjack', 'W with insurance']                          83\n",
       "['T with both blackjack', 'T with both blackjack and insurance']       15\n",
       "Name: Dealer_result, dtype: int64"
      ]
     },
     "execution_count": 7,
     "metadata": {},
     "output_type": "execute_result"
    }
   ],
   "source": [
    "df.Dealer_result.value_counts()"
   ]
  },
  {
   "cell_type": "code",
   "execution_count": 8,
   "metadata": {},
   "outputs": [
    {
     "data": {
      "text/plain": [
       "L                        40491\n",
       "W                        40131\n",
       "T                        10131\n",
       "W with blackjack          4529\n",
       "L with blackjack          4479\n",
       "T with both blackjack      238\n",
       "Name: Player1_result, dtype: int64"
      ]
     },
     "execution_count": 8,
     "metadata": {},
     "output_type": "execute_result"
    }
   ],
   "source": [
    "df.Player1_result.value_counts()"
   ]
  },
  {
   "cell_type": "markdown",
   "metadata": {},
   "source": [
    "Finding one: Soft/hard 17 have similar win rate, the difference is from blackjack. Dealer have to pay double for blackjack, therefore they must have other rules to counter balance the odd. "
   ]
  },
  {
   "cell_type": "code",
   "execution_count": 9,
   "metadata": {},
   "outputs": [
    {
     "data": {
      "text/plain": [
       "W                                      40590\n",
       "L                                      40302\n",
       "T                                       9872\n",
       "W with blackjack                        4518\n",
       "L with blackjack                        3047\n",
       "L with insurance                        1451\n",
       "T with both blackjack and insurance      219\n",
       "Name: Player2_result, dtype: int64"
      ]
     },
     "execution_count": 9,
     "metadata": {},
     "output_type": "execute_result"
    }
   ],
   "source": [
    "df.Player2_result.value_counts()"
   ]
  },
  {
   "cell_type": "code",
   "execution_count": 10,
   "metadata": {},
   "outputs": [
    {
     "data": {
      "text/plain": [
       "0    86616\n",
       "1    13383\n",
       "Name: Player2_insurance, dtype: int64"
      ]
     },
     "execution_count": 10,
     "metadata": {},
     "output_type": "execute_result"
    }
   ],
   "source": [
    "df.Player2_insurance.value_counts()"
   ]
  },
  {
   "cell_type": "code",
   "execution_count": null,
   "metadata": {},
   "outputs": [],
   "source": []
  },
  {
   "cell_type": "markdown",
   "metadata": {},
   "source": [
    "How many time does player2 buy the insurance and dealer is indeed blackjack?"
   ]
  },
  {
   "cell_type": "code",
   "execution_count": 11,
   "metadata": {
    "scrolled": true
   },
   "outputs": [
    {
     "data": {
      "text/plain": [
       "4717"
      ]
     },
     "execution_count": 11,
     "metadata": {},
     "output_type": "execute_result"
    }
   ],
   "source": [
    "len(df[df.Dealer_blackjack==1])"
   ]
  },
  {
   "cell_type": "code",
   "execution_count": 12,
   "metadata": {},
   "outputs": [
    {
     "data": {
      "text/plain": [
       "13383"
      ]
     },
     "execution_count": 12,
     "metadata": {},
     "output_type": "execute_result"
    }
   ],
   "source": [
    "len(df[df.Player2_insurance==1])"
   ]
  },
  {
   "cell_type": "code",
   "execution_count": 13,
   "metadata": {},
   "outputs": [
    {
     "data": {
      "text/plain": [
       "1670"
      ]
     },
     "execution_count": 13,
     "metadata": {},
     "output_type": "execute_result"
    }
   ],
   "source": [
    "len(df[(df.Player2_insurance==1) & (df.Dealer_blackjack==1)])"
   ]
  },
  {
   "cell_type": "code",
   "execution_count": 14,
   "metadata": {},
   "outputs": [
    {
     "data": {
      "text/plain": [
       "6295"
      ]
     },
     "execution_count": 14,
     "metadata": {},
     "output_type": "execute_result"
    }
   ],
   "source": [
    "len(df[(df.Player2_insurance==1) & \n",
    "       (df.Dealer_blackjack==0) & \n",
    "       ((df.Player2_result=='W with blackjack') | \n",
    "        (df.Player2_result=='W'))])"
   ]
  },
  {
   "cell_type": "code",
   "execution_count": null,
   "metadata": {},
   "outputs": [],
   "source": []
  }
 ],
 "metadata": {
  "kernelspec": {
   "display_name": "Python 3",
   "language": "python",
   "name": "python3"
  },
  "language_info": {
   "codemirror_mode": {
    "name": "ipython",
    "version": 3
   },
   "file_extension": ".py",
   "mimetype": "text/x-python",
   "name": "python",
   "nbconvert_exporter": "python",
   "pygments_lexer": "ipython3",
   "version": "3.7.4"
  }
 },
 "nbformat": 4,
 "nbformat_minor": 2
}
